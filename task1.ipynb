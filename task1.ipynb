{
 "cells": [
  {
   "cell_type": "markdown",
   "id": "141abd35-e7f3-4e38-9af6-ffd66f49f5ec",
   "metadata": {},
   "source": [
    "Q1. Create a function which will take a list as an argument and return the product of all the numbers\n",
    "after creating a flat list.\n",
    "Use the below-given list as an argument for your function.\n",
    "list1 = [1,2,3,4, [44,55,66, True], False, (34,56,78,89,34), {1,2,3,3,2,1}, {1:34, \"key2\": [55, 67, 78, 89], 4: (45,\n",
    "22, 61, 34)}, [56, 'data science'], 'Machine Learning']\n",
    "ans:\n",
    "def product_of_numbers(lst):\n",
    "\n",
    "  product = 1\n",
    "  def flatten(lst):\n",
    "    flat_list = []\n",
    "    for element in lst:\n",
    "      if isinstance(element, (list, tuple, set)):\n",
    "        flat_list.extend(flatten(element))\n",
    "      elif isinstance(element, dict):\n",
    "        flat_list.extend(flatten(list(element.keys())))\n",
    "        flat_list.extend(flatten(list(element.values())))\n",
    "      else:\n",
    "        flat_list.append(element)\n",
    "    return flat_list\n",
    "  flat_list = flatten(lst)\n",
    "  for element in flat_list:\n",
    "    if isinstance(element, (int, float)):\n",
    "      product *= element\n",
    "  return product\n",
    "\n",
    "list1 = [1,2,3,4, [44,55,66, True], False, (34,56,78,89,34), {1,2,3,3,2,1}, {1:34, \"key2\": [55, 67, 78, 89], 4: (45,\n",
    "22, 61, 34)}, [56, 'data science'], 'Machine Learning']\n",
    "print(product_of_numbers(list1))\n"
   ]
  },
  {
   "cell_type": "markdown",
   "id": "202c7f10-9122-4261-9de1-64b0bcf893d6",
   "metadata": {},
   "source": [
    "Q2. Write a python program for encrypting a message sent to you by your friend. The logic of encryption\n",
    "should be such that, for a the output should be z. For b, the output should be y. For c, the output should\n",
    "be x respectively. Also, the whitespace should be replaced with a dollar sign. Keep the punctuation\n",
    "marks unchanged.\n",
    "Input Sentence: I want to become a Data Scientist.\n",
    "Encrypt the above input sentence using the program you just created.\n",
    "ans:# Define a function that takes a message as an argument and returns the encrypted message\n",
    "def encrypt_message(message):\n",
    "  encrypted_message = \"\"\n",
    "  message = message.lower()\n",
    "  for char in message:\n",
    "    if char == \" \":\n",
    "      encrypted_message += \"$\"\n",
    "    elif char.islower():\n",
    "      encrypted_message += chr(219 - ord(char))\n",
    "    else:\n",
    "      encrypted_message += char\n",
    "  # Return the encrypted message\n",
    "  return encrypted_message\n",
    "\n",
    "input_sentence = \"I want to become a Data Scientist.\"\n",
    "print(encrypt_message(input_sentence))\n",
    "\n"
   ]
  }
 ],
 "metadata": {
  "kernelspec": {
   "display_name": "Python 3 (ipykernel)",
   "language": "python",
   "name": "python3"
  },
  "language_info": {
   "codemirror_mode": {
    "name": "ipython",
    "version": 3
   },
   "file_extension": ".py",
   "mimetype": "text/x-python",
   "name": "python",
   "nbconvert_exporter": "python",
   "pygments_lexer": "ipython3",
   "version": "3.10.8"
  }
 },
 "nbformat": 4,
 "nbformat_minor": 5
}
